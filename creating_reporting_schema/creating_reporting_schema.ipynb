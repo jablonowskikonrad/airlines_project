{
 "cells": [
  {
   "cell_type": "code",
   "execution_count": null,
   "id": "0ccdbf10",
   "metadata": {},
   "outputs": [],
   "source": [
    "import psycopg2\n",
    "from psycopg2 import connect\n",
    "\n",
    "cnx = psycopg2.connect(   \n",
    "        user = 'username',\n",
    "        password = 'password',\n",
    "        host = 'localhost',\n",
    "        dbname = 'airlines',\n",
    "        port = '5432'\n",
    ")\n",
    "\n",
    "cursor = cnx.cursor()\n",
    "\n",
    "sql_file = r\"file_source\\reporting.sql\"\n",
    "with open(sql_file, 'r', encoding='utf-8') as f:\n",
    "    reporting = f.read()\n",
    "\n",
    "queries = reporting.split(';')\n",
    "queries\n",
    "\n",
    "for query in queries:  \n",
    "    cursor = cnx.cursor()\n",
    "    cursor.execute(query)\n",
    "\n",
    "cursor = cnx.cursor()\n",
    "cursor.execute('COMMIT')\n",
    "\n",
    "cnx.close()"
   ]
  }
 ],
 "metadata": {
  "kernelspec": {
   "display_name": "coderslab-warsztat",
   "language": "python",
   "name": "coderslab-warsztat"
  },
  "language_info": {
   "codemirror_mode": {
    "name": "ipython",
    "version": 3
   },
   "file_extension": ".py",
   "mimetype": "text/x-python",
   "name": "python",
   "nbconvert_exporter": "python",
   "pygments_lexer": "ipython3",
   "version": "3.11.5"
  }
 },
 "nbformat": 4,
 "nbformat_minor": 5
}
